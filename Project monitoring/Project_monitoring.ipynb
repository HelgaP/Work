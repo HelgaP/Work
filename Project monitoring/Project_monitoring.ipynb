{
 "cells": [
  {
   "cell_type": "markdown",
   "id": "81d2f135-3e64-4f4a-b03c-0b72082f9c89",
   "metadata": {},
   "source": [
    "# Мониторинг проектов"
   ]
  },
  {
   "cell_type": "markdown",
   "id": "2259448f-6cfd-464e-a749-f5a5d8cce988",
   "metadata": {
    "jp-MarkdownHeadingCollapsed": true
   },
   "source": [
    "## Импорт библиотек и загрузка файлов"
   ]
  },
  {
   "cell_type": "code",
   "execution_count": 58,
   "id": "533112aa-cb4b-41bb-b257-56dafc95f645",
   "metadata": {},
   "outputs": [],
   "source": [
    "import pandas as pd\n",
    "import os\n",
    "import numpy as np\n",
    "from datetime import datetime\n",
    "from openpyxl import load_workbook \n",
    "from openpyxl.drawing.image import Image\n",
    "from datetime import date\n",
    "import helpers, metrics"
   ]
  },
  {
   "cell_type": "code",
   "execution_count": 9,
   "id": "9653665d-070e-4381-800c-d7d17618a022",
   "metadata": {},
   "outputs": [],
   "source": [
    "PATH = \"C:\\\\Users\\\\SEA5324\\\\Nextcloud\\\\Planning Center\\\\100_Projects\\\\06 _Project_Planning Center\\\\Project orders reports\"\n",
    "os.mkdir(PATH + f\"\\\\{date.today()}\")\n",
    "os.mkdir(PATH + f\"\\\\{date.today()}\\\\Входные файлы\")\n",
    "os.mkdir(PATH + f\"\\\\{date.today()}\\\\Выходные файлы\")\n",
    "os.mkdir(PATH + f\"\\\\{date.today()}\\\\Выходные файлы\\\\Общие\")\n",
    "os.mkdir(PATH + f\"\\\\{date.today()}\\\\Выходные файлы\\\\Бизнес\")\n",
    "os.mkdir(PATH + f\"\\\\{date.today()}\\\\Выходные файлы\\\\Снабжение\")"
   ]
  },
  {
   "cell_type": "code",
   "execution_count": 4,
   "id": "98589215-92c7-4e18-90e4-d92bf1164f81",
   "metadata": {},
   "outputs": [],
   "source": [
    "today_is_Tuesday = True # сформировать основной отчет + выгрузить разбивку по снабженцам в папку снабжение\n",
    "today_is_Friday = False # сформировать основной отчет + подтянуть комменты снабженцев со вторника, сделать сводник и отчеты для бизнеса\n",
    "comments_needed = False\n",
    "if today_is_Tuesday: comments_delay = 4\n",
    "if today_is_Friday: comments_delay, last_week_delay = 4, 7"
   ]
  },
  {
   "cell_type": "code",
   "execution_count": 5,
   "id": "6a5db261-7b98-40ae-8741-bb6850cc3688",
   "metadata": {},
   "outputs": [
    {
     "name": "stderr",
     "output_type": "stream",
     "text": [
      "C:\\Users\\SEA5324\\AppData\\Local\\Programs\\Python\\Python312\\Lib\\site-packages\\openpyxl\\styles\\stylesheet.py:226: UserWarning: Workbook contains no default style, apply openpyxl's default\n",
      "  warn(\"Workbook contains no default style, apply openpyxl's default\")\n",
      "C:\\Users\\SEA5324\\AppData\\Local\\Programs\\Python\\Python312\\Lib\\site-packages\\openpyxl\\styles\\stylesheet.py:226: UserWarning: Workbook contains no default style, apply openpyxl's default\n",
      "  warn(\"Workbook contains no default style, apply openpyxl's default\")\n",
      "C:\\Users\\SEA5324\\AppData\\Local\\Programs\\Python\\Python312\\Lib\\site-packages\\openpyxl\\styles\\stylesheet.py:226: UserWarning: Workbook contains no default style, apply openpyxl's default\n",
      "  warn(\"Workbook contains no default style, apply openpyxl's default\")\n",
      "C:\\Users\\SEA5324\\AppData\\Local\\Programs\\Python\\Python312\\Lib\\site-packages\\openpyxl\\styles\\stylesheet.py:226: UserWarning: Workbook contains no default style, apply openpyxl's default\n",
      "  warn(\"Workbook contains no default style, apply openpyxl's default\")\n"
     ]
    }
   ],
   "source": [
    "start = datetime.now() # засечем, сколько заняла загрузка всех файлов\n",
    "shipped_goods1 = pd.read_excel(PATH + f'\\\\{date.today()}\\\\Входные файлы\\\\Список_всех_РТиУ_с_деталями (11.09.2024-25.10.2024).xlsx', skipfooter=1)\n",
    "shipped_goods2 = pd.read_excel(PATH + f'\\\\{date.today()}\\\\Входные файлы\\\\Список_всех_РТиУ_с_деталями (01.06.2024-20.08.2024).xlsx', skipfooter=1)\n",
    "shipped_goods3 = pd.read_excel(PATH + f'\\\\{date.today()}\\\\Входные файлы\\\\Список_всех_РТиУ_с_деталями (21.08.2024-10.09.2024).xlsx', skipfooter=1)\n",
    "shipped_goods4 = pd.read_excel(PATH + f'\\\\{date.today()}\\\\Входные файлы\\\\Список_всех_РТиУ_с_деталями (26.10.2024-27.06.2025).xlsx', skipfooter=1)\n",
    "shipped_goods = pd.concat([shipped_goods1, shipped_goods2, shipped_goods3, shipped_goods4])\n",
    "df = pd.read_excel(PATH + f'\\\\{date.today()}\\\\Входные файлы\\\\Заказы с обеспечением.xlsx')\n",
    "scm = pd.read_excel(PATH + '\\\\Постоянные файлы\\\\SCM_report.xlsx')\n",
    "projects = pd.read_excel(PATH + '\\\\Постоянные файлы\\\\Projects.xlsx')\n",
    "gl = pd.read_excel(PATH + '\\\\Постоянные файлы\\\\Глоссарий.xlsx', sheet_name='Полный')\n",
    "finish = datetime.now()\n",
    "print(\"Загрузка файлов заняла \", str(finish - start))"
   ]
  },
  {
   "cell_type": "markdown",
   "id": "179ee6d7-9b4e-4145-9164-e3c44790e280",
   "metadata": {
    "jp-MarkdownHeadingCollapsed": true
   },
   "source": [
    "### Data cleaning"
   ]
  },
  {
   "cell_type": "code",
   "execution_count": 29,
   "id": "14d1619c-15fe-4960-88cb-f4a918dfe43d",
   "metadata": {},
   "outputs": [
    {
     "name": "stderr",
     "output_type": "stream",
     "text": [
      "C:\\Users\\SEA5324\\AppData\\Local\\Temp\\ipykernel_24388\\1336388840.py:55: FutureWarning: Setting an item of incompatible dtype is deprecated and will raise in a future error of pandas. Value '2025-06-29' has dtype incompatible with datetime64[ns], please explicitly cast to a compatible dtype first.\n",
      "  projects.loc[projects['Проект'] == new_project, 'Дата начала отслеживания'] = date.today()\n"
     ]
    }
   ],
   "source": [
    "# КОСМЕТИКА\n",
    "# переименуем колонки для удобства\n",
    "df = df.rename(columns={'Проект':'Название проекта', 'Контрагент.Код исторической системы (Склады и магазины)':\"КИС\", \"Заказ\":\"Номер клиентского заказа\", \"Дата\":\"Дата заказа\", \"Количество (в единицах хранения)\":\"Количество\", \"Заказ на поступление.Контрагент\": \"Поставщик\", \"Заказ на поступление.Дата поступления\":\"Дата поступления\", \"Номенклатура.Продакт-менеджер\":\"Продакт-менеджер\", \"Контрагент.ИНН\":\"ИНН\"})\n",
    "df.drop(index=df[df['Номенклатура'].str.contains(\".слуга\", regex=True)].index, inplace=True) # убираем услуги\n",
    "df.drop(index=df[df['Номенклатура'].str.contains(\"Штраф\", regex=True)].index, inplace=True) # убираем штрафы\n",
    "df.loc[:, 'Статус проектной линии'] = 'Статус отсутствует' # создаем колонку для хранения статуса и примечания\n",
    "df['Дата заказа'] = pd.to_datetime(df['Дата заказа'], format='%d.%m.%Y').dt.date\n",
    "df['Ключ клиентского заказа'] = df['Номер клиентского заказа'] + '&' + df['Дата заказа'].astype(str)\n",
    "projects['Ключ клиентского заказа'] = projects['Номер клиентского заказа'] + '&' + projects['Дата заказа'].astype('str')\n",
    "df = df.merge(projects[['Ключ клиентского заказа', 'Критическая дата', 'Конечный заказчик']], on='Ключ клиентского заказа', how='left')\n",
    "\n",
    "df['Id строки EDI'] = df['Id строки EDI'].fillna(0)\n",
    "df['Id строки EDI'] = df['Id строки EDI'].astype(int)\n",
    "\n",
    "# уберем пропуски в Обеспечено/Не обеспечено\n",
    "df['Не обеспечено'] = df['Не обеспечено'].fillna(0)\n",
    "df['Обеспечено'] = df['Обеспечено'].fillna(0)\n",
    "df['Обеспечено ЗП'] = df['Обеспечено ЗП'].fillna(0)\n",
    "\n",
    "# Проверка на частичную отгрузку \n",
    "df.loc[(df['Вариант обеспечения'] != 'Отгрузить') & (df['Заказ на поступление'].str.contains('еремещ')) & (df['Обеспечено ЗП'] < df['Обеспечено']) & (df['Обеспечено ЗП'] != 0), 'Обеспечено'] = df.loc[(df['Вариант обеспечения'] != 'Отгрузить') & (df['Обеспечено ЗП'] < df['Обеспечено']) & (df['Обеспечено ЗП'] != 0), 'Обеспечено ЗП']\n",
    "df.loc[(df['Обеспечено'] < df['Количество (в единицах хранения)']) & (df['Обеспечено'] > 0) & (df['Отменено'] == 'Нет'), 'Частично обеспечено'] = 'Да'\n",
    "df.loc[(df['Не обеспечено'] < df['Количество (в единицах хранения)']) & (df['Не обеспечено'] > 0) & (df['Отменено'] == 'Нет'), 'Частично не обеспечено'] = 'Да'\n",
    "\n",
    "df.loc[(df['Частично обеспечено'] == 'Да'), 'Количество (в единицах хранения)'] = df[df['Частично обеспечено'] == 'Да']['Обеспечено']\n",
    "df.loc[(df['Частично не обеспечено'] == 'Да'), 'Количество (в единицах хранения)'] = df[df['Частично не обеспечено'] == 'Да']['Не обеспечено']\n",
    "\n",
    "# заменим кол-ва в заказе на кол-ва к обеспечению для некоторых строк (которые не в отгрузке и к которым есть строки к обеспечению)\n",
    "df['Цена с НДС'] = df['Сумма с НДС'] / df['Количество (в единицах хранения)']\n",
    "# заменим кол-ва в заказе на кол-ва к обеспечени для некоторых строк (которые не в отгрузке и к которым есть строки к обеспечению)\n",
    "df['Стоимость с НДС'] = df['Цена с НДС'] * df['Количество (в единицах хранения)']\n",
    "df.drop(['Сумма с НДС'], inplace=True, axis=1) # уберем колонку, чтобы не путать со стоимостью с НДС\n",
    "\n",
    "# обработка файла SCM\n",
    "\n",
    "# сбытовой статус артикула зависит еще от того, к какому складу привязан заказ\n",
    "# сокращаем отчет scm только для материалов по проекту и обрабатываем столбец склад, статус продаж/закупок\n",
    "scm['Склад'] = scm['Склад'].apply(lambda x: x[:9])\n",
    "df['Склад'] = df['Склад'].apply(lambda x: x[:9])\n",
    "scm = scm[(scm['Артикул'].isin(df['Артикул'].unique())) & (scm['Склад'].isin(df['Склад'].unique()))]\n",
    "scm['Статус продаж'] = scm[~scm['Статус продаж'].isna()]['Статус продаж'].apply(lambda x: x[:2])\n",
    "scm['Статус закупок'] = scm[~scm['Статус закупок'].isna()]['Статус закупок'].apply(lambda x: x[:2])\n",
    "\n",
    "# новые ключи для мэтча сбытового статуса\n",
    "df['Артикул&Склад'] = df['Артикул'] + df['Склад']\n",
    "scm['Артикул&Склад'] = scm['Артикул'] + scm['Склад']\n",
    "\n",
    "# добавляем в таблицу локальный поток или нет\n",
    "local_routes = ('Ms', 'RU', 'Sp')\n",
    "local = scm[~scm['Маршрут'].isna()][['Артикул', 'Маршрут']]\n",
    "local = local.drop_duplicates(subset='Артикул')\n",
    "local.loc[local['Маршрут'].str.startswith(local_routes), 'Локальный поток ДА/НЕТ'] = 'ДА'\n",
    "local.loc[~local['Маршрут'].str.startswith(local_routes), 'Локальный поток ДА/НЕТ'] = 'НЕТ'\n",
    "df = df.merge(local[['Артикул', 'Локальный поток ДА/НЕТ']], on='Артикул', how='left')\n",
    "\n",
    "# формируем таблицу с закупочным/сбытовым статусами\n",
    "material_status = scm[['Артикул&Склад', 'Статус продаж', 'Статус закупок']].drop_duplicates(subset='Артикул&Склад')\n",
    "\n",
    "# добавляем колонки в pdf - выполнять эту строку только один раз!\n",
    "df = df.merge(material_status, on='Артикул&Склад', how='left')\n",
    "\n",
    "# найдем MRP контролеров для каждого артикула\n",
    "mrp_controllers_df = scm[(~scm['MRP контролер'].isna())][['Артикул', 'MRP контролер']].drop_duplicates(subset='Артикул')\n",
    "df = df.merge(mrp_controllers_df, on='Артикул', how='left')\n",
    "\n",
    "# проверка на завершенные проекты \n",
    "finished_projects = df[df['Название проекта'].isin(projects[projects['Статус проекта'] == 'Завершен']['Проект'].unique().tolist())]\n",
    "df = df[df['Название проекта'].isin(projects[projects['Статус проекта'] != 'Завершен']['Проект'].unique().tolist())]\n",
    "\n",
    "# проверка на новые проекты\n",
    "new_projects = projects.loc[projects['Статус проекта'] == 'Новый']['Проект'].unique().tolist()\n",
    "# для новых проектов в файле отметим дату начала отслеживания и дату первого размещенного заказа по проекту\n",
    "for new_project in new_projects:\n",
    "    projects.loc[projects['Проект'] == new_project, 'Дата начала отслеживания'] = date.today()\n",
    "    projects.loc[projects['Проект'] == new_project, 'Дата первого заказа проекта'] = projects[projects['Проект'] == new_project]['Дата заказа'].min()"
   ]
  },
  {
   "cell_type": "markdown",
   "id": "326f91df-adb2-4292-abc3-865fa308e337",
   "metadata": {
    "jp-MarkdownHeadingCollapsed": true
   },
   "source": [
    "## Алгоритм определения статуса по проекту. Определение статусов, часть 1"
   ]
  },
  {
   "cell_type": "markdown",
   "id": "569c47e8-1924-4feb-92b5-15df6fb99d5b",
   "metadata": {},
   "source": [
    "![Алгоритм](Алгоритм_update.drawio.png)"
   ]
  },
  {
   "cell_type": "code",
   "execution_count": 31,
   "id": "fcb73cd6-f49a-4995-a25f-db66be032ca9",
   "metadata": {},
   "outputs": [],
   "source": [
    "# меняем статус на в отгрузке\n",
    "df.loc[(df['Статус проектной линии'] == 'Статус отсутствует') & (df['Вариант обеспечения'] == 'Отгрузить'), 'Статус проектной линии'] = 'В отгрузке'\n",
    "\n",
    "df['Дата отгрузки'] = pd.to_datetime(df['Дата отгрузки'], format=\"%d.%m.%Y\").dt.date\n",
    "shipped_goods['Дата документа РТиУ'] = pd.to_datetime(shipped_goods['Дата документа РТиУ'], yearfirst=True).dt.date\n",
    "shipped_goods = shipped_goods.rename(columns={'Номер Заказа Клиента':'Номер клиентского заказа'})\n",
    "\n",
    "# делим на 2 части (в отгрузке и нет)\n",
    "df_in_shipment = df[df['Статус проектной линии'] == 'В отгрузке']\n",
    "df_open = df[df['Статус проектной линии'] != 'В отгрузке']\n",
    "\n",
    "# обрабатываем часть в отгрузке\n",
    "df_in_shipment_pivot = pd.pivot_table(df_in_shipment[['Номер клиентского заказа','Артикул','Склад','Количество']], index=['Номер клиентского заказа','Артикул','Склад'], values='Количество', aggfunc='sum').reset_index()\n",
    "shipped_goods_pivot = pd.pivot_table(shipped_goods[['Номер клиентского заказа','Артикул','Склад','Количество отгруженного']], index=['Номер клиентского заказа','Артикул','Склад'], values='Количество отгруженного', aggfunc='sum').reset_index()\n",
    "df_in_shipment_pivot = df_in_shipment_pivot.merge(shipped_goods_pivot, on=['Номер клиентского заказа','Артикул','Склад'], how='left')\n",
    "df_in_shipment_pivot['Разница'] = df_in_shipment_pivot['Количество'] - df_in_shipment_pivot['Количество отгруженного']\n",
    "fully_shipped_lines = df_in_shipment_pivot[df_in_shipment_pivot['Разница'] <= 0]\n",
    "df_in_shipment = df_in_shipment.merge(fully_shipped_lines[['Номер клиентского заказа','Артикул','Склад','Количество отгруженного']], how='left', on=['Номер клиентского заказа','Артикул','Склад'])\n",
    "df_in_shipment.loc[(df_in_shipment['Статус проектной линии'] == 'В отгрузке') & (~df_in_shipment['Количество отгруженного'].isna()), 'Статус проектной линии'] = 'Отгружено'\n",
    "\n",
    "# сливаем все назад\n",
    "df = pd.concat([df_in_shipment, df_open])\n",
    "df['Количество отгруженного'].fillna(0, inplace=True)\n",
    "\n",
    "# меняем статус на отмена\n",
    "df.loc[(df['Статус проектной линии'] == 'Статус отсутствует') & ((df['Отменено'] == 'Да') | (df['Вариант обеспечения'] == 'Не обеспечивать')), 'Статус проектной линии'] = 'Отмена'"
   ]
  },
  {
   "cell_type": "markdown",
   "id": "69d66dcc-c7a6-4d56-9361-5650487b33cc",
   "metadata": {
    "jp-MarkdownHeadingCollapsed": true
   },
   "source": [
    "## Определение статусов по проектам, часть 2"
   ]
  },
  {
   "cell_type": "code",
   "execution_count": 33,
   "id": "bee15eb7-a275-402c-82ef-a748b60e505e",
   "metadata": {},
   "outputs": [],
   "source": [
    "# меняем статус на блок сбытовой \n",
    "df.loc[(df['Статус проектной линии'] == 'Статус отсутствует') & (~df['Статус продаж'].isna()) & (~df['Статус продаж'].isin(['08', '09', '10', '18', 'T1', 'T2'])), 'Статус проектной линии'] = 'Блок Сбытовой'\n",
    "\n",
    "# проверка на статус \"На складе\"\n",
    "df.loc[(df['Статус проектной линии'] == 'Статус отсутствует') & (df['Состояние обеспечения'] == 'Обеспечен на складе'), 'Статус проектной линии'] = 'На складе'\n",
    "\n",
    "# проверка на статус \"В транзите\"\n",
    "df.loc[(df['Статус проектной линии'] == 'Статус отсутствует') & (df['Состояние обеспечения'] == 'Обеспечен к дате') & (df['Заказ на поступление'].str.contains(\"Приобретение\")), 'Статус проектной линии'] = 'В транзите'\n",
    "df.loc[(df['Статус проектной линии'] == 'Статус отсутствует') & (df['Состояние обеспечения'] == 'Обеспечен к дате') & (df['Заказ на поступление'].str.contains(\"Перемещение\")), 'Статус проектной линии'] = 'В транзите'\n",
    "\n",
    "# проверка на БЛОК по закупочному статусу\n",
    "df.loc[(df['Статус проектной линии'] == 'Статус отсутствует') & (df['Статус закупок'] != '30') & (~df['Статус закупок'].isna()), 'Статус проектной линии'] = 'Блок Закупочный'\n",
    "\n",
    "# проверка на наличие размещенных заказов поставщику по проектным линиям \n",
    "df.loc[(df['Статус проектной линии'] == 'Статус отсутствует') & (df['Состояние обеспечения'] == 'Обеспечить'), 'Статус проектной линии'] = 'Ожидается размещение РО'\n",
    "\n",
    "# проверим, транзит с опозданием или нет \n",
    "# создадим вспомогаетльную колонку с датой для сравнения, потом удалить\n",
    "df['Дата для сравнения'] = np.where(df['Желаемая дата отгрузки'] == '1900-01-01', df['Контрактная дата отгрузки'], df['Желаемая дата отгрузки'])\n",
    "df['Дата для сравнения'] = pd.to_datetime(df['Дата для сравнения'], format=\"%d.%m.%Y\").dt.date\n",
    "\n",
    "# проверка на задержку доставки до склада по еще не отгруженным РО\n",
    "df.loc[(df['Статус проектной линии'] == 'Статус отсутствует') & (df['Состояние обеспечения'].isin(['Обеспечен к дате', 'Ожидается по неподтвержденному заказу'])) & (df['Заказ на поступление'].str.contains(\"Заказ\")) & (df['Дата отгрузки'] > df['Дата для сравнения']), 'Статус проектной линии'] = 'Требуется ускорение'\n",
    "df.loc[(df['Статус проектной линии'] == 'Статус отсутствует') & (df['Состояние обеспечения'].isin(['Обеспечен к дате', 'Ожидается по неподтвержденному заказу'])) & (df['Заказ на поступление'].str.contains(\"озврат\")) & (df['Дата отгрузки'] > df['Дата для сравнения']), 'Статус проектной линии'] = 'Требуется ускорение'\n",
    "df.loc[(df['Статус проектной линии'] == 'Статус отсутствует') & (df['Состояние обеспечения'].isin(['Обеспечен к дате', 'Ожидается по неподтвержденному заказу'])) & (df['Заказ на поступление'].str.contains(\"Этап производства\")) & (df['Дата отгрузки'] > df['Дата для сравнения']), 'Статус проектной линии'] = 'Требуется ускорение'\n",
    "df.loc[(df['Статус проектной линии'] == 'Статус отсутствует') & (df['Состояние обеспечения'].isin(['Обеспечен к дате', 'Ожидается по неподтвержденному заказу'])) & (df['Заказ на поступление'].str.contains(\"Заказ\")) & (df['Дата отгрузки'] <= df['Дата для сравнения']), 'Статус проектной линии'] = 'Ожидается отгрузка от поставщика'\n",
    "df.loc[(df['Статус проектной линии'] == 'Статус отсутствует') & (df['Состояние обеспечения'].isin(['Обеспечен к дате', 'Ожидается по неподтвержденному заказу'])) & (df['Заказ на поступление'].str.contains(\"озврат\")) & (df['Дата отгрузки'] <= df['Дата для сравнения']), 'Статус проектной линии'] = 'Ожидается отгрузка от поставщика'\n",
    "df.loc[(df['Статус проектной линии'] == 'Статус отсутствует') & (df['Состояние обеспечения'].isin(['Обеспечен к дате', 'Ожидается по неподтвержденному заказу'])) & (df['Заказ на поступление'].str.contains(\"Этап производства\")) & (df['Дата отгрузки'] <= df['Дата для сравнения']), 'Статус проектной линии'] = 'Ожидается отгрузка от поставщика'\n",
    "\n",
    "#- проверить, ожидается обеспечение по неразмещенному заказу\n",
    "#- ожидается утверждение заказа поставщику\n",
    "# ЕЩЕ КОСМЕТИКА\n",
    "# приведение формата дат\n",
    "df['Дата согласования'] = pd.to_datetime(df['Дата согласования'], format='%d.%m.%Y %H:%M:%S').dt.date\n",
    "df['Контрактная дата отгрузки'] = pd.to_datetime(df['Контрактная дата отгрузки'], format='%d.%m.%Y').dt.date\n",
    "df['Желаемая дата отгрузки'] = pd.to_datetime(df['Желаемая дата отгрузки'], format='%d.%m.%Y').dt.date\n",
    "df['Критическая дата'] = pd.to_datetime(df['Критическая дата'], yearfirst=True).dt.date\n",
    "df.loc[df['Дата поступления'] != 'Поступило', 'Дата поступления'] = pd.to_datetime(df.loc[df['Дата поступления'] != 'Поступило', 'Дата поступления'], format='%d.%m.%Y').dt.date\n",
    "df['Количество'] = df['Количество'].astype('int')\n",
    "df['Смещение даты отгрузки (от контрактной), в днях'] = df['Дата отгрузки'] - df['Контрактная дата отгрузки']\n",
    "\n",
    "df = df.drop(['Артикул&Склад', 'Ключ клиентского заказа'], axis=1)\n",
    "df = df.rename(columns={'Проект':'Название проекта', 'Проект.Ответственный':'Лидер проекта'})"
   ]
  },
  {
   "cell_type": "markdown",
   "id": "80415003-5c79-4356-8d43-ea59a155953e",
   "metadata": {
    "jp-MarkdownHeadingCollapsed": true
   },
   "source": [
    "## Деление отчета по MRP контроллерам"
   ]
  },
  {
   "cell_type": "code",
   "execution_count": 36,
   "id": "64646e3b-fb7f-454c-a5cb-936f8a61e92f",
   "metadata": {},
   "outputs": [],
   "source": [
    "# по вторникам отчет формируется, разбивается по закупащикам и сохраняется в пофамильные папке. Закупщики указывают в своих частях отчета комментарии по проектам\n",
    "if today_is_Tuesday:\n",
    "\n",
    "    if comments_needed:\n",
    "        \n",
    "        # выберем только те позиции, к которым нужны комменты\n",
    "        df['Заказ клиента&Id строки EDI'] = df['Номер клиентского заказа'] + '%' + df['Id строки EDI'].astype('str')\n",
    "        codes_for_comments_tuesday = df[df['Статус проектной линии'].isin(['Требуется ускорение', 'Ожидается размещение РО'])]['Заказ клиента&Id строки EDI'].tolist()\n",
    "    \n",
    "        # прикручиваем комментарии с прошлой пятницы (потому что они могут быть изменены координатором)\n",
    "        \n",
    "        last_friday_df = pd.read_excel(PATH + f\"\\\\{date.today() - pd.to_timedelta(comments_delay, unit='d')}\\\\Выходные файлы\\\\Общие\\\\result_{date.today() - pd.to_timedelta(comments_delay, unit='d')}.xlsx\")\n",
    "        last_friday_df['Заказ клиента&Id строки EDI'] = last_friday_df['Номер клиентского заказа'] + '%' + last_friday_df['Id строки EDI'].astype('str')\n",
    "        friday_comments = last_friday_df[(last_friday_df['Комментарий снабжения'] != '-') & (~last_friday_df['Комментарий снабжения'].isna()) & (last_friday_df['Заказ клиента&Id строки EDI'].isin(codes_for_comments_tuesday))][['Заказ клиента&Id строки EDI','Комментарий снабжения']].drop_duplicates(subset='Заказ клиента&Id строки EDI')\n",
    "        df = df.merge(friday_comments, on='Заказ клиента&Id строки EDI', how='left')\n",
    "        df = df.rename(columns = {'Комментарий снабжения':'Комментарий снабжения с прошлой недели'})\n",
    "        \n",
    "    else:\n",
    "        df['Комментарий снабжения с прошлой недели'] = '-'\n",
    "\n",
    "    df['Комментарий снабжения'] = '-'\n",
    "    df.loc[df['MRP контролер'].isna(), 'MRP контролер'] = 'NO MRP (кому больше хочется, тот и заполняет)'\n",
    "    df_for_controllers = df.reindex(columns=['Название проекта', 'Дата согласования', 'Артикул', 'Количество', 'Номер клиентского заказа', 'Id строки EDI', 'Заказ на поступление', \"Заказ на поступление.Номер\", 'Дата поступления', 'Статус проектной линии', 'Поставщик', 'Комментарий снабжения', 'Комментарий снабжения с прошлой недели',  'Склад', 'Контрактная дата отгрузки', 'Желаемая дата отгрузки', 'Дата отгрузки', 'Номенклатура', 'Характеристика', 'Дата заказа', 'Вариант обеспечения', 'Обособленно', 'Отменено', 'Частичная отгрузка', 'Критическая дата', 'Смещение даты отгрузки (от контрактной), в днях', 'MRP контролер', 'Локальный поток ДА/НЕТ', 'Статус продаж', 'Статус закупок', 'Дата для сравнения', 'Лидер проекта', 'Контрагент', 'Стоимость с НДС', 'КИС'])\n",
    "\n",
    "    # для проверки на случай если линии были удалены\n",
    "    lines_check_up = {}\n",
    "    \n",
    "    mrp_controllers = list(df_for_controllers['MRP контролер'].unique())\n",
    "    \n",
    "    for controller in mrp_controllers:\n",
    "    \n",
    "        result_for_controller = df_for_controllers[df_for_controllers['MRP контролер'] == controller]\n",
    "        lines_check_up[controller] = len(result_for_controller)\n",
    "        os.mkdir(PATH + f'\\\\{date.today()}\\\\Выходные файлы\\\\Снабжение\\\\{controller}')\n",
    "    \n",
    "        with pd.ExcelWriter(PATH + f\"\\\\{date.today()}\\\\Выходные файлы\\\\Снабжение\\\\{controller}\\\\result_{date.today()}.xlsx\") as writer:  \n",
    "            result_for_controller.to_excel(writer, sheet_name='Данные', index=False)\n",
    "            gl.to_excel(writer, sheet_name='Глоссарий', index=False) \n",
    "    \n",
    "        helpers.formatting(PATH + f\"\\\\{date.today()}\\\\Выходные файлы\\\\Снабжение\\\\{controller}\\\\result_{date.today()}.xlsx\")\n",
    "    \n",
    "    lines = {}\n",
    "    lines[\"Кол-во линий до комментов\"] = lines_check_up\n",
    "    lines_df = pd.DataFrame.from_dict(lines, orient='columns')\n",
    "    lines_df.to_excel(PATH + f\"\\\\{date.today()}\\\\Выходные файлы\\\\Линии_снабженец.xlsx\")\n",
    "    helpers.formatting(PATH + f\"\\\\{date.today()}\\\\Выходные файлы\\\\Линии_снабженец.xlsx\", option=\"purch_lines\")"
   ]
  },
  {
   "cell_type": "markdown",
   "id": "828fce65-e3a2-48f9-b4b3-a9083c425909",
   "metadata": {
    "jp-MarkdownHeadingCollapsed": true
   },
   "source": [
    "## Проверка на полную отгрузку проектов и их запись в архив"
   ]
  },
  {
   "cell_type": "code",
   "execution_count": null,
   "id": "baae577f-1854-44a7-b9c7-92a5650b8872",
   "metadata": {},
   "outputs": [],
   "source": [
    "for project in df['Название проекта'].unique():\n",
    "\n",
    "    if len(df[(df['Название проекта'] == project) & (df['Статус проектной линии'].isin(['Отмена', 'Отгружено']))]) == len(df[df['Название проекта'] == project]):\n",
    "        if projects.loc[projects['Название проекта'] == project, 'Статус проекта'].values[0] not in ['Завершен?', 'Завершен']:\n",
    "            projects.loc[projects['Название проекта'] == project, 'Статус проекта'] = 'Завершен?'\n",
    "\n",
    "if len(finished_projects['Название проекта'].unique().tolist()) != 0: # есть отгруженные проекты\n",
    "    \n",
    "    archive_list = pd.read_excel(PATH + '\\\\Постоянные файлы\\\\Архив.xlsx', sheet_name='Список проектов') # открываем архив\n",
    "    archive_list = pd.concat([archive_list, projects.loc[projects['Статус проекта'] == 'Завершен']])\n",
    "\n",
    "    with pd.ExcelWriter(PATH + '\\\\Постоянные файлы\\\\Архив.xlsx') as writer:  \n",
    "        archive_list.to_excel(writer, sheet_name='Список проектов', index=False)"
   ]
  },
  {
   "cell_type": "markdown",
   "id": "ac143776-e3e0-4330-a421-dfa43677a276",
   "metadata": {
    "jp-MarkdownHeadingCollapsed": true
   },
   "source": [
    "## Формирование файлов со статусами по каждому проекту"
   ]
  },
  {
   "cell_type": "code",
   "execution_count": null,
   "id": "fffdc2ca-367e-49f6-82f8-f52db96229e8",
   "metadata": {},
   "outputs": [],
   "source": [
    "# формирование отдельных файлов по каждому проекту\n",
    "gl = pd.read_excel(PATH + '\\\\Постоянные файлы\\\\Глоссарий.xlsx', sheet_name='Полный')\n",
    "result_for_business = df[['Проект', 'Проект.Ответственный', 'Статус проектной линии', 'Комментарий снабжения на этой неделе', 'Заказ', 'Артикул', 'Дата отгрузки', 'Id строки EDI', 'Номенклатура', 'Количество',  'Смещение даты отгрузки по сравн. с прошлой неделей', 'Дата заказа', 'Дата согласования', 'Контрактная дата отгрузки', 'Желаемая дата отгрузки', 'Контрагент', 'Склад', 'Сумма с НДС']]\n",
    "\n",
    "result_for_client = result_for_business[['Проект', 'Проект.Ответственный', 'Статус проектной линии', 'Заказ', 'Артикул', 'Дата отгрузки', 'Id строки EDI', 'Номенклатура', 'Количество', 'Смещение даты отгрузки по сравн. с прошлой неделей', 'Дата заказа', 'Дата согласования', 'Контрактная дата отгрузки', 'Желаемая дата отгрузки', 'Контрагент', 'Склад']]\n",
    "result_for_client['Склад'] = result_for_client['Склад'].apply(replace_whs)\n",
    "\n",
    "for project in df[\"Проект\"].unique():\n",
    "\n",
    "    with pd.ExcelWriter(f\"C:\\\\Users\\\\SEA5324\\\\Nextcloud\\\\Planning Center\\\\100_Projects\\\\06 _Project_Planning Center\\\\Project orders reports\\\\{date.today()}\" + f\"\\\\{project}_{date.today()}.xlsx\") as writer:  \n",
    "        result_for_business[result_for_business['Проект'] == project].to_excel(writer, sheet_name='Данные', index=False)\n",
    "        # выделение строк со смещением в отдельный файл\n",
    "        result_for_business[(result_for_business['Проект'] == project) & (~result_for_business['Статус проектной линии'].isin(['Отгружено', 'Отмена'])) & (result_for_business['Смещение даты отгрузки по сравн. с прошлой неделей'] > 0)].to_excel(writer, sheet_name='Строки со смещением', index=False)\n",
    "        result_for_client[result_for_client['Проект'] == project].to_excel(writer, sheet_name='Файл для клиента', index=False)\n",
    "        gl.to_excel(writer, sheet_name='Глоссарий', index=False)"
   ]
  },
  {
   "cell_type": "markdown",
   "id": "d3d78b38-6768-42fc-a988-15287c945368",
   "metadata": {
    "jp-MarkdownHeadingCollapsed": true
   },
   "source": [
    "## Формирование сводного файла со статистикой по всем проектам"
   ]
  },
  {
   "cell_type": "code",
   "execution_count": null,
   "id": "f619bdcc-80be-419d-b913-4776a3d3cb37",
   "metadata": {},
   "outputs": [],
   "source": [
    "# СВОДНЫЙ ФАЙЛ (для руководства)\n",
    "if today_is_Friday:\n",
    "\n",
    "    df['Заказ&Артикул'] = df['Номер клиентского заказа'] + '&' + df['Артикул']\n",
    "    # поменяем линии, требующие ускорения, на \"На ускорении\", т.к. они все в работе у отдела снабжения\n",
    "    df.loc[df['Статус проектной линии'] == 'Требуется ускорение', 'Статус проектной линии'] = 'На ускорении'\n",
    "\n",
    "    # собрать комменты от закупщиков со вторника:\n",
    "    folder_names = os.listdir(PATH + f'\\\\{date.today() - pd.to_timedelta(comments_delay, unit='d')}\\\\Выходные файлы\\\\Снабжение')\n",
    "    dfs_array = []\n",
    "    \n",
    "    for name in folder_names:\n",
    "        df_temp = pd.read_excel(PATH + f'\\\\{date.today() - pd.to_timedelta(comments_delay, unit='d')}\\\\Выходные файлы\\\\Снабжение\\\\{name}\\\\result_{date.today() - pd.to_timedelta(comments_delay, unit='d')}.xlsx')\n",
    "        dfs_array.append(df_temp)\n",
    "    result = pd.concat(dfs_array, ignore_index=True)\n",
    "\n",
    "    # подтянем комментарии только там, где они нужны (то есть статусы - требуется ускорение и ожидается размещение РО)\n",
    "    result['Заказ клиента&Id строки EDI'] = result['Номер клиентского заказа'] + '%' + result['Id строки EDI'].astype('str') #ключ\n",
    "    result = result[~result['Заказ клиента&Id строки EDI'].isna()]\n",
    "    tuesday_comments = result[(result['Комментарий снабжения'] != '-') & (~result['Комментарий снабжения'].isna()) & (result['Заказ клиента&Id строки EDI'].isin(codes_for_comments))][['Заказ клиента&Id строки EDI','Комментарий снабжения']].drop_duplicates(subset='Заказ клиента&Id строки EDI')\n",
    "    \n",
    "    df = df.merge(tuesday_comments, on='Заказ клиента&Id строки EDI', how='left')\n",
    "    col = df.pop('Комментарий снабжения')\n",
    "    df.insert(4, col.name, col)\n",
    "\n",
    "    # подсчитаем некоторые статистики для сводного файла\n",
    "    array = [] #открытые линии, закрытые линии, все линии, процент отгруженного, процент своевременности \n",
    "    projects_statuses = {} # словарь с этими данными по каждому проекту\n",
    "    \n",
    "    for project in df['Название проекта'].unique():\n",
    "        projects_statuses[project] = {}\n",
    "   \n",
    "        open_lines = len(df[(df['Название проекта'] == project) & (~df['Статус проектной линии'].isin(['Отгружено', 'Отмена']))]['Заказ&Артикул'].unique()) # открытые строки\n",
    "        \n",
    "        if open_lines == 0:\n",
    "    \n",
    "            projects.loc[projects['Название проекта'] == project, 'Статус проекта'] = 'Завершен?' # если нет открытых линий, то помечаем этот проект в файле как возможный завершенный\n",
    "            projects.to_excel(PATH + '\\\\Постоянные файлы\\\\Projects.xlsx', index=False)\n",
    "        \n",
    "        projects_statuses[project]['cancelled_lines'] = len(df[(df['Название проекта'] == project) & (df['Статус проектной линии'] == 'Отмена')]['Заказ&Артикул'].unique())\n",
    "        projects_statuses[project]['shipped_lines'] = len(df[(df['Название проекта'] == project) & (df['Статус проектной линии'].isin(['Отгружено']))]['Заказ&Артикул'].unique()) # для графиков\n",
    "        projects_statuses[project]['not_shipped_lines'] = len(df[(df['Название проекта'] == project) & (~df['Статус проектной линии'].isin(['Отгружено', 'Отмена']))]['Заказ&Артикул'].unique()) # для графиков\n",
    "        projects_statuses[project]['percent_of_shipped'] = str(round((projects_statuses[project]['shipped_lines'] / (projects_statuses[project]['shipped_lines'] + projects_statuses[project]['not_shipped_lines'])) * 100)) + '%'\n",
    "        projects_statuses[project]['delayed_lines_contract'] = len(df[(df['Дата отгрузки'] > df['Контрактная дата отгрузки']) & (df['Статус проектной линии'] != 'Отмена') & (df['Название проекта'] == project)]['Заказ&Артикул'].unique())\n",
    "        projects_statuses[project]['delayed_lines_desired'] = len(df[(df['Дата отгрузки'] > df['Желаемая дата отгрузки']) & (df['Статус проектной линии'] != 'Отмена') & (df['Название проекта'] == project)]['Заказ&Артикул'].unique())\n",
    "        projects_statuses[project]['not_delayed_lines_desired'] = len(df[(df['Дата отгрузки'] <= df['Желаемая дата отгрузки']) & (df['Статус проектной линии'] != 'Отмена') & (df['Название проекта'] == project)]['Заказ&Артикул'].unique())\n",
    "        projects_statuses[project]['not_delayed_lines_contract'] = len(df[(df['Дата отгрузки'] <= df['Контрактная дата отгрузки']) & (df['Статус проектной линии'] != 'Отмена') & (df['Название проекта'] == project)]['Заказ&Артикул'].unique())\n",
    "        projects_statuses[project]['all_lines'] = len(df[df['Название проекта'] == project]['Заказ&Артикул'].unique())\n",
    "        projects_statuses[project]['percent_of_not_delayed_contract'] = str(round((projects_statuses[project]['not_delayed_lines_contract'] / (projects_statuses[project]['not_delayed_lines_contract'] + projects_statuses[project]['delayed_lines_contract'])) * 100)) + '%'\n",
    "        projects_statuses[project]['percent_of_not_delayed_desired'] = str(round((projects_statuses[project]['not_delayed_lines_desired'] / (projects_statuses[project]['not_delayed_lines_desired'] + projects_statuses[project]['delayed_lines_desired'])) * 100)) + '%'\n",
    "        projects_statuses[project]['project_leader'] = projects[projects['Название проекта'] == project]['Лидер проекта'].values[0]\n",
    "        projects_statuses[project]['bitrix_number'] = projects[projects['Название проекта'] == project]['Номер сделки'].values[0]\n",
    "        projects_statuses[project]['end_user'] = projects[projects['Название проекта'] == project]['Конечный заказчик'].values[0]\n",
    "        projects_statuses[project]['project_value'] = df[(df['Статус проектной линии'] != 'Отмена') & (df['Название проекта'] == project)]['Сумма с НДС'].sum()\n",
    "        array.append([project, projects_statuses[project]['end_user'], projects_statuses[project]['project_leader'], projects_statuses[project]['cancelled_lines'], projects_statuses[project]['not_shipped_lines'], projects_statuses[project]['shipped_lines'], projects_statuses[project]['all_lines'], projects_statuses[project]['percent_of_shipped'], projects_statuses[project]['percent_of_not_delayed_contract'], projects_statuses[project]['percent_of_not_delayed_desired'], projects_statuses[project]['project_value'], projects_statuses[project]['bitrix_number']])    \n",
    "             \n",
    "    columns_names = ['Проект', 'Конечный заказчик', 'Лидер проекта', 'Отменено', 'К поставке', 'Поставлено', 'Всего', f'Отгружено на {date.today()}', 'Вовремя (контр.)', 'Вовремя (жел.)', 'Сумма, RUB', 'Номер сделки']  \n",
    "    general_pivot = pd.DataFrame(array, columns=columns_names)\n",
    "    \n",
    "    # загрузка сводного файла с прошлой недели для сравнения\n",
    "    \n",
    "    pivot_last_week = pd.read_excel(PATH + f'\\\\{date.today() - pd.to_timedelta(last_week_delay, unit='d')}\\\\Выходные файлы\\\\Общие\\\\result_{date.today() - pd.to_timedelta(last_week_delay, unit='d')}.xlsx', sheet_name='Сводный')\n",
    "    comments_last_week = pd.read_excel(PATH + f'\\\\{date.today() - pd.to_timedelta(last_week_delay, unit='d')}\\\\Выходные файлы\\\\Общие\\\\result_{date.today() - pd.to_timedelta(last_week_delay, unit='d')}.xlsx', sheet_name='Комментарии')\n",
    "    general_pivot = general_pivot.merge(pivot_last_week[['Проект', f'Отгружено на {date.today() - pd.to_timedelta(last_week_delay, unit='d')}']], on='Проект', how='left')\n",
    "    comments_df = general_pivot[['Проект']].merge(comments_last_week[['Проект', f'Комментарий на {date.today() - pd.to_timedelta(last_week_delay, unit='d')}']], on='Проект', how='left')\n",
    "    comments_df[f'Комментарий на {date.today()}'] = '-'\n",
    "    col = general_pivot.pop(f'Отгружено на {date.today() - pd.to_timedelta(last_week_delay, unit='d')}')\n",
    "    general_pivot.insert(7, col.name, col)\n",
    "    general_pivot = general_pivot.rename(columns={'Проект':'Проект (#00ac86)'}) # код корпоративного цвета\n",
    "   \n",
    "    # ключ в новой таблице\n",
    "    df['Заказ клиента&Id строки EDI'] = df['Номер клиентского заказа'] + '%' + df['Id строки EDI'].astype('str')\n",
    "    # строки, к которым нужны комменты\n",
    "    codes_for_comments = df[df['Статус проектной линии'].isin(['На ускорении', 'Ожидается размещение РО'])]['Заказ клиента&Id строки EDI'].unique().tolist()"
   ]
  },
  {
   "cell_type": "code",
   "execution_count": null,
   "id": "4fa7c885-6fbb-4425-94ad-48a3a90570f8",
   "metadata": {},
   "outputs": [],
   "source": [
    "# формирование общего файла для координатора проектов со сводным файлом для отправки руководству (только по пятницам)\n",
    "df_for_coordinator = df.reindex(columns=['Название проекта', 'Лидер проекта', 'Статус проектной линии', 'Причина проблемы', 'Дата отгрузки', 'Номер клиентского заказа', 'Артикул', 'Количество', 'Id строки EDI', 'Поставщик', 'Комментарий снабжения', 'Комментарий снабжения с прошлой недели', 'Контрактная дата отгрузки', 'Частично обеспечено', 'Частично не обеспечено', 'MRP контролер', 'Расчетная дата отгрузки транзита', 'Клиент.Код', 'Номенклатура',  'Желаемая дата отгрузки', 'Критическая дата', 'Склад', 'Заказ на поступление', \"Заказ на поступление.Номер\", 'Дата поступления', 'Дата согласования',  'Дата заказа', 'Вариант обеспечения', 'Обособленно', 'Отменено',  'Смещение даты отгрузки (от контрактной), в днях', 'Локальный поток ДА/НЕТ',  'Статус продаж','Статус закупок', 'Дата для сравнения', 'Контрагент', 'Стоимость с НДС', 'КИС', 'Наличие у дистров', 'Остаток РС', 'Остаток Элевел', 'Остаток ЭТМ'])\n",
    "with pd.ExcelWriter(PATH + f\"\\\\{date.today()}\\\\Выходные файлы\\\\Общие\\\\result_{date.today()}.xlsx\") as writer:  \n",
    "    df_for_coordinator.to_excel(writer, sheet_name='Данные', index=False)\n",
    "    gl1.to_excel(writer, sheet_name='Глоссарий', index=False)\n",
    "    if today_is_Friday:\n",
    "        general_pivot.to_excel(writer, sheet_name='Сводный', index=False)\n",
    "        comments_df.to_excel(writer, sheet_name='Комментарии', index=False)\n",
    "\n",
    "helpers.formatting(PATH + f\"\\\\{date.today()}\\\\Выходные файлы\\\\Общие\\\\result_{date.today()}.xlsx\")"
   ]
  },
  {
   "cell_type": "markdown",
   "id": "8ddeddb5-f840-479e-b5ad-b50c2765c5d5",
   "metadata": {
    "jp-MarkdownHeadingCollapsed": true
   },
   "source": [
    "## Автоматическая рассылка отчетов"
   ]
  },
  {
   "cell_type": "code",
   "execution_count": 9,
   "id": "ec3d910e-e14c-4ef0-b839-36ac2630ad8b",
   "metadata": {},
   "outputs": [],
   "source": [
    "import pandas as pd\n",
    "import smtplib\n",
    "from email.mime.multipart import MIMEMultipart\n",
    "from email.mime.text import MIMEText\n",
    "from email.mime.base import MIMEBase\n",
    "from email import encoders\n",
    "import os"
   ]
  },
  {
   "cell_type": "code",
   "execution_count": 10,
   "id": "ba28f214-39ba-405e-9920-42f79e61246a",
   "metadata": {},
   "outputs": [],
   "source": [
    "# Настройки для отправки почты\n",
    "smtp_server = 'mail.systeme.ru'  # SMTP сервер\n",
    "smtp_port = 587  # Порт для TLS\n",
    "smtp_user = 'SEA5324'#Нужно ввести свой\n",
    "smtp_password = 'yhzL4cdyg6' #Нужно ввести свой\n",
    "from_email = 'irina.perepelkina@systeme.ru' #Нужно ввести свой корпоративный"
   ]
  },
  {
   "cell_type": "code",
   "execution_count": 12,
   "id": "7bd49d0c-52c1-4967-8e00-70a50185dccf",
   "metadata": {},
   "outputs": [],
   "source": [
    "projects = pd.read_excel(PATH + '\\\\Постоянные файлы\\\\Projects.xlsx')\n",
    "emails = projects[['Проект', 'Email']].drop_duplicates(subset='Проект')"
   ]
  },
  {
   "cell_type": "code",
   "execution_count": 11,
   "id": "3463fcbc-1663-40b7-aac8-de7a674616ca",
   "metadata": {},
   "outputs": [],
   "source": [
    "# Функция для отправки письма с вложением\n",
    "def send_email(to_email, subject, body, file_path):\n",
    "    msg = MIMEMultipart()\n",
    "    msg['From'] = from_email\n",
    "    msg['To'] = to_email\n",
    "    msg['Subject'] = subject\n",
    "\n",
    "    msg.attach(MIMEText(body, 'plain'))\n",
    "\n",
    "    # Вложение\n",
    "    if os.path.isfile(file_path):\n",
    "        file_name = os.path.basename(file_path)\n",
    "        content_type = 'application/octet-stream'  # Общее значение, если не определено иначе\n",
    "\n",
    "        # Определение типа содержимого файла по расширению\n",
    "        if file_name.endswith('.xlsx'):\n",
    "            content_type = 'application/vnd.openxmlformats-officedocument.spreadsheetml.sheet'\n",
    "        elif file_name.endswith('.xls'):\n",
    "            content_type = 'application/vnd.ms-excel'\n",
    "\n",
    "        with open(file_path, 'rb') as attachment:\n",
    "            part = MIMEBase('application', 'octet-stream')\n",
    "            part.set_payload(attachment.read())\n",
    "            encoders.encode_base64(part)\n",
    "            part.add_header(\n",
    "                'Content-Disposition',\n",
    "                'attachment', filename=file_name,\n",
    "            )\n",
    "            part.add_header('Content-Type', content_type)\n",
    "            msg.attach(part)\n",
    "    else:\n",
    "        print(f\"Файл не найден: {file_path}\")\n",
    "        return\n",
    "\n",
    "    # Отправка сообщения\n",
    "    with smtplib.SMTP(smtp_server, smtp_port) as server:\n",
    "        server.starttls()  # Защита соединения\n",
    "        server.login(smtp_user, smtp_password)\n",
    "        server.send_message(msg)\n",
    "        print(f\"Письмо отправлено на {to_email}\")"
   ]
  },
  {
   "cell_type": "code",
   "execution_count": null,
   "id": "88be878c-f92c-4b43-9afa-1be884e0737b",
   "metadata": {},
   "outputs": [],
   "source": [
    "#Обработка строк в Excel и отправка писем\n",
    "for index, row in emails.iterrows():\n",
    "    file_name = row['Проект'] + f'_{date.today()}' + '.xlsx'\n",
    "    recipient_email = row['Email']\n",
    "    file_path = os.path.join(f'C:\\\\Users\\\\SEA5324\\\\Nextcloud\\\\Planning Center\\\\100_Projects\\\\06 _Project_Planning Center\\\\Project orders reports\\\\{date.today()}\\\\', file_name) #Указать правильный путь к файлам    \n",
    "    send_email(\n",
    "        to_email=recipient_email,\n",
    "        subject=f'Отслеживание проектов {date.today()}: {row['Проект']}',\n",
    "        body='Добрый день, коллеги!\\n\\nВо вложении обновление по проекту.\\n\\nЕсли есть какие-то вопросы или нужна дополнительная проработка по проекту, пожалуйста, пишите.\\n\\nКоординатор проектов,\\nПерепелкина Ирина',\n",
    "        file_path=file_path,\n",
    "    )"
   ]
  },
  {
   "cell_type": "markdown",
   "id": "d0379742-7320-482c-8eec-bf7edf9b76e7",
   "metadata": {
    "jp-MarkdownHeadingCollapsed": true
   },
   "source": [
    "## Оценщик сложности проектов"
   ]
  },
  {
   "cell_type": "code",
   "execution_count": 67,
   "id": "e3f86507-c4af-4259-b577-94972529ab80",
   "metadata": {},
   "outputs": [
    {
     "name": "stdout",
     "output_type": "stream",
     "text": [
      "#pl_Пороховой завод\n"
     ]
    }
   ],
   "source": [
    "finished_projects = finished_projects[finished_projects['Отменено'] == 'Нет'] # оцениваем только линии без отмен\n",
    "\n",
    "if len(finished_projects) != 0:\n",
    "    \n",
    "    finished_projects['Заказ клиента&Id строки EDI'] = finished_projects['Номер клиентского заказа'] + '%' + finished_projects['Id строки EDI'].astype(str)\n",
    "    evaluator_file_path = PATH + \"\\\\Постоянные файлы\\\\Оценщик_сложности.xlsx\"\n",
    "    # Загружаем файл какой он сейчас есть, потом к нему прибавим новые строки и сохраним\n",
    "    evaluator_df = pd.read_excel(evaluator_file_path)\n",
    "\n",
    "    ABC_RU01 = pd.read_excel(PATH + '\\\\Постоянные файлы\\\\ABC-FMR.xlsx', sheet_name = 'Final RU01')\n",
    "    ABC_RU06 = pd.read_excel(PATH + '\\\\Постоянные файлы\\\\ABC-FMR.xlsx', sheet_name = 'Final RU06')\n",
    "    sales_RU01 = pd.read_excel(PATH + '\\\\Постоянные файлы\\\\ABC-FMR.xlsx', sheet_name = 'Sales RU01', skipfooter=2)[['Reference', 'Amu']]\n",
    "    sales_RU06 = pd.read_excel(PATH + '\\\\Постоянные файлы\\\\ABC-FMR.xlsx', sheet_name = 'Sales RU06', skipfooter=2)[['Reference', 'Amu']]\n",
    "\n",
    "    # подготовка ключей\n",
    "    ABC_RU01['Артикул&Склад'] = ABC_RU01['Reference'] + '&RU01'\n",
    "    ABC_RU06['Артикул&Склад'] = ABC_RU06['Reference'] + '&RU06'\n",
    "    ABC_TOTAL = pd.concat([ABC_RU01, ABC_RU06])\n",
    "    finished_projects['Склад_коротко'] = finished_projects['Склад'].apply(change_whs)\n",
    "    finished_projects['Артикул&Склад'] = finished_projects['Артикул'] + '&' + finished_projects['Склад_коротко']\n",
    "    finished_projects = finished_projects.merge(ABC_TOTAL[['Category', 'Артикул&Склад']], on='Артикул&Склад', how='left')\n",
    "    \n",
    "    sales_RU01['Артикул&Склад'] = sales_RU01['Reference'] + '&RU01'\n",
    "    sales_RU06['Артикул&Склад'] = sales_RU06['Reference'] + '&RU06'\n",
    "    sales = pd.concat([sales_RU01, sales_RU06])\n",
    "    finished_projects = finished_projects.merge(sales[['Amu', 'Артикул&Склад']], on='Артикул&Склад', how='left')\n",
    "    для данных, которые рассчитываются не автоматически\n",
    "    add_resoures_and_fc = projects[projects['Проект'].isin(finished_projects['Название проекта'].unique())].drop_duplicates(subset='Проект')\n",
    "\n",
    "    for project in list(finished_projects['Название проекта'].unique()):\n",
    "    \n",
    "        print(project)\n",
    "        # какие данные понадобятся для датафрейма\n",
    "        tight_deadlines = 0\n",
    "        rare_refs = 0\n",
    "        el_order = 0\n",
    "        suppliers_qty = 0\n",
    "        whs_qty = 0\n",
    "        prj_duration = 0\n",
    "    \n",
    "        all_lines = len(finished_projects[finished_projects['Название проекта'] == project].drop_duplicates(subset='Заказ клиента&Id строки EDI'))\n",
    "    \n",
    "        tight_deadlines = metrics.tight_lines_evaluator(project, all_lines, finished_projects)\n",
    "        rare_refs = metrics.rare_refs_evaluator(project, all_lines, finished_projects)\n",
    "        el_order = metrics.el_orders_evaluator(project, all_lines, finished_projects)\n",
    "        suppliers_qty = len(finished_projects[finished_projects['Название проекта'] == project]['Поставщик'].unique())\n",
    "        suppliers_points = metrics.suppliers_evaluator(suppliers_qty)\n",
    "        whs_to_pass = finished_projects[finished_projects['Название проекта'] == project]['Склад'].unique()\n",
    "        whs_points = metrics.whs_evaluator(whs_to_pass)\n",
    "        lines_points = metrics.lines_qty_evaluator(all_lines)\n",
    "        prj_duration = (max(pd.to_datetime(finished_projects[finished_projects['Название проекта'] == project]['Дата отгрузки'], format='%d.%m.%Y').dt.date) - min(pd.to_datetime(finished_projects[finished_projects['Название проекта'] == project]['Дата заказа'], format='%d.%m.%Y').dt.date)).days\n",
    "        prj_duration_points = 0 if prj_duration < 180 else 1\n",
    "        project_value = finished_projects[finished_projects['Название проекта'] == project].drop_duplicates(subset='Заказ клиента&Id строки EDI')['Сумма с НДС'].sum()\n",
    "    \n",
    "        add_resources = add_resoures_and_fc[add_resoures_and_fc['Проект'] == project]['Доп ресурсы'].values[0]\n",
    "        sum_of_points = sum([tight_deadlines, rare_refs, el_order, suppliers_points, whs_points, lines_points, prj_duration_points, add_resources])\n",
    "        category = metrics.define_category(sum_of_points)\n",
    "        \n",
    "        # создаем датафрейм для записи в файл\n",
    "        new_df = pd.DataFrame(columns=evaluator_df.columns, data=[[project, project_value, tight_deadlines, rare_refs, el_order, suppliers_points, whs_points, lines_points, prj_duration_points, add_resources, sum_of_points, category]])\n",
    "        evaluator_df = pd.concat([evaluator_df, new_df])\n",
    "        evaluator_df.to_excel(evaluator_file_path, index=False)\n",
    "    \n",
    "    projects['Дата заказа'] = pd.to_datetime(projects['Дата заказа'], yearfirst=True).dt.date\n",
    "    projects['Критическая дата'] = pd.to_datetime(projects['Критическая дата'], yearfirst=True).dt.date\n",
    "    # убираем эти строки из списка проектов\n",
    "    finished_projects.to_excel(PATH + \"\\\\finished.xlsx\", index=False)\n",
    "projects.to_excel(PATH + '\\\\Постоянные файлы\\\\Projects.xlsx', index=False)"
   ]
  },
  {
   "cell_type": "code",
   "execution_count": null,
   "id": "48038fc9-4075-4b27-9fc2-396b991e0a71",
   "metadata": {},
   "outputs": [],
   "source": []
  }
 ],
 "metadata": {
  "kernelspec": {
   "display_name": "Python 3 (ipykernel)",
   "language": "python",
   "name": "python3"
  },
  "language_info": {
   "codemirror_mode": {
    "name": "ipython",
    "version": 3
   },
   "file_extension": ".py",
   "mimetype": "text/x-python",
   "name": "python",
   "nbconvert_exporter": "python",
   "pygments_lexer": "ipython3",
   "version": "3.12.0"
  }
 },
 "nbformat": 4,
 "nbformat_minor": 5
}
